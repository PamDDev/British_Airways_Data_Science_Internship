{
 "cells": [
  {
   "cell_type": "markdown",
   "id": "93b9eded-68c6-4aac-8769-52cfb58fb4a1",
   "metadata": {},
   "source": [
    "# DATA COLLECTION\n",
    "In the first stage, we will start by collecting datasets through scraping the web on Skytrax https://www.airlinequality.com/"
   ]
  },
  {
   "cell_type": "code",
   "execution_count": 10,
   "id": "0307d6df-9cd7-4588-b275-8985642281c8",
   "metadata": {},
   "outputs": [],
   "source": [
    "import pandas as pd\n",
    "import numpy as np\n",
    "from bs4 import BeautifulSoup\n",
    "import requests"
   ]
  },
  {
   "cell_type": "code",
   "execution_count": 9,
   "id": "e5d2698b-8788-4e39-9d51-356dac0760ac",
   "metadata": {},
   "outputs": [],
   "source": [
    "# Create an empty list to collect all reviews\n",
    "Reviews = []\n",
    "\n",
    "# Create an empty list to collect all rating stars\n",
    "Stars = []\n",
    "\n",
    "# Create an empty list to collect all date\n",
    "Date = [] \n",
    "\n",
    "# Create an empty list to collect Country data\n",
    "Country = []"
   ]
  },
  {
   "cell_type": "code",
   "execution_count": 22,
   "id": "074928a3-21f4-4ad7-8b2e-277a04884889",
   "metadata": {},
   "outputs": [
    {
     "name": "stdout",
     "output_type": "stream",
     "text": [
      "Error on page 30\n",
      "Error on page 31\n",
      "Error on page 32\n",
      "Error on page 34\n",
      "Error on page 34\n"
     ]
    }
   ],
   "source": [
    "for i in range(1, 36):\n",
    "    page = requests.get(f\"https://www.airlinequality.com/airline-reviews/british-airways/page/{i}/?sortby=post_date%3ADesc&pagesize=100\")\n",
    "    \n",
    "    soup = BeautifulSoup(page.content, \"html.parser\")\n",
    "    \n",
    "    for item in soup.find_all(\"div\", class_=\"text_content\"):\n",
    "        Reviews.append(item.text)\n",
    "    \n",
    "    for item in soup.find_all(\"div\", class_ = \"rating-10\"):\n",
    "        try:\n",
    "            Stars.append(item.span.text)\n",
    "        except:\n",
    "            print(f\"Error on page {i}\")\n",
    "            Stars.append(\"None\")\n",
    "            \n",
    "    #date\n",
    "    for item in soup.find_all(\"time\"):\n",
    "        Date.append(item.text)\n",
    "        \n",
    "    #country\n",
    "    for item in soup.find_all(\"h3\"):\n",
    "        Country.append(item.span.next_sibling.text.strip(\" ()\"))"
   ]
  },
  {
   "cell_type": "code",
   "execution_count": 54,
   "id": "f43c0876-8ad3-4930-b4a6-d7486d936f86",
   "metadata": {},
   "outputs": [
    {
     "data": {
      "text/plain": [
       "3418"
      ]
     },
     "execution_count": 54,
     "metadata": {},
     "output_type": "execute_result"
    }
   ],
   "source": [
    "#check the length of total reviews extracted\n",
    "len(Reviews)"
   ]
  },
  {
   "cell_type": "code",
   "execution_count": 55,
   "id": "09043bb5-359d-45d0-ba05-664812a1ff70",
   "metadata": {},
   "outputs": [
    {
     "data": {
      "text/plain": [
       "3418"
      ]
     },
     "execution_count": 55,
     "metadata": {},
     "output_type": "execute_result"
    }
   ],
   "source": [
    "len(Country)"
   ]
  },
  {
   "cell_type": "code",
   "execution_count": 56,
   "id": "a28ad859-d675-4597-9769-6e42794008ff",
   "metadata": {},
   "outputs": [
    {
     "data": {
      "text/plain": [
       "3418"
      ]
     },
     "execution_count": 56,
     "metadata": {},
     "output_type": "execute_result"
    }
   ],
   "source": [
    "len(Date)"
   ]
  },
  {
   "cell_type": "code",
   "execution_count": 45,
   "id": "1d275b19-ded1-474d-abfa-5258b8713e78",
   "metadata": {},
   "outputs": [],
   "source": [
    "#check the length \n",
    "Reviews = Reviews[:3418]"
   ]
  },
  {
   "cell_type": "code",
   "execution_count": 46,
   "id": "cc94ff8f-a00e-46ac-beb4-ac5242827307",
   "metadata": {},
   "outputs": [],
   "source": [
    "#check the length \n",
    "Stars = Stars[:3418]"
   ]
  },
  {
   "cell_type": "code",
   "execution_count": 47,
   "id": "76614e87-1233-4307-9b7e-33f952a144f2",
   "metadata": {},
   "outputs": [],
   "source": [
    "#check the length \n",
    "Date = Date[:3418]"
   ]
  },
  {
   "cell_type": "code",
   "execution_count": 48,
   "id": "50587365-f660-44e6-9a09-c7ce4d35a4dc",
   "metadata": {},
   "outputs": [],
   "source": [
    "#check the length \n",
    "Country = Country[:3418]"
   ]
  },
  {
   "cell_type": "code",
   "execution_count": 49,
   "id": "36592e38-ecf9-4120-8058-c80dc3ef0b9d",
   "metadata": {},
   "outputs": [],
   "source": [
    "#create  a dataframe from these collected lists of data\n",
    "\n",
    "df = pd.DataFrame()\n",
    "df[\"Reviews\"] = Reviews\n",
    "df[\"Stars\"] = Stars\n",
    "df[\"Date\"] = Date\n",
    "df[\"Country\"] = Country"
   ]
  },
  {
   "cell_type": "code",
   "execution_count": 50,
   "id": "a8cfc8c4-13f7-4a9c-bbba-3fec5602e3fd",
   "metadata": {},
   "outputs": [],
   "source": [
    "df = pd.DataFrame({\"Reviews\":Reviews,\"Stars\": Stars, \"Date\":Date, \"Country\": Country})"
   ]
  },
  {
   "cell_type": "code",
   "execution_count": 51,
   "id": "eb9e0401-5444-4698-bd29-5fa5f9780bb4",
   "metadata": {},
   "outputs": [
    {
     "data": {
      "text/html": [
       "<div>\n",
       "<style scoped>\n",
       "    .dataframe tbody tr th:only-of-type {\n",
       "        vertical-align: middle;\n",
       "    }\n",
       "\n",
       "    .dataframe tbody tr th {\n",
       "        vertical-align: top;\n",
       "    }\n",
       "\n",
       "    .dataframe thead th {\n",
       "        text-align: right;\n",
       "    }\n",
       "</style>\n",
       "<table border=\"1\" class=\"dataframe\">\n",
       "  <thead>\n",
       "    <tr style=\"text-align: right;\">\n",
       "      <th></th>\n",
       "      <th>Reviews</th>\n",
       "      <th>Stars</th>\n",
       "      <th>Date</th>\n",
       "      <th>Country</th>\n",
       "    </tr>\n",
       "  </thead>\n",
       "  <tbody>\n",
       "    <tr>\n",
       "      <th>0</th>\n",
       "      <td>✅ Trip Verified |  The ground staff were not h...</td>\n",
       "      <td>\\n\\t\\t\\t\\t\\t\\t\\t\\t\\t\\t\\t\\t\\t5</td>\n",
       "      <td>23rd April 2023</td>\n",
       "      <td>Ireland</td>\n",
       "    </tr>\n",
       "    <tr>\n",
       "      <th>1</th>\n",
       "      <td>✅ Trip Verified |  Second time BA Premium Econ...</td>\n",
       "      <td>1</td>\n",
       "      <td>22nd April 2023</td>\n",
       "      <td>United Kingdom</td>\n",
       "    </tr>\n",
       "    <tr>\n",
       "      <th>2</th>\n",
       "      <td>Not Verified |  They changed our Flights from ...</td>\n",
       "      <td>10</td>\n",
       "      <td>18th April 2023</td>\n",
       "      <td>United States</td>\n",
       "    </tr>\n",
       "    <tr>\n",
       "      <th>3</th>\n",
       "      <td>Not Verified |  At Copenhagen the most chaotic...</td>\n",
       "      <td>2</td>\n",
       "      <td>18th April 2023</td>\n",
       "      <td>United States</td>\n",
       "    </tr>\n",
       "    <tr>\n",
       "      <th>4</th>\n",
       "      <td>✅ Trip Verified |  Worst experience of my life...</td>\n",
       "      <td>5</td>\n",
       "      <td>17th April 2023</td>\n",
       "      <td>United States</td>\n",
       "    </tr>\n",
       "  </tbody>\n",
       "</table>\n",
       "</div>"
      ],
      "text/plain": [
       "                                             Reviews  \\\n",
       "0  ✅ Trip Verified |  The ground staff were not h...   \n",
       "1  ✅ Trip Verified |  Second time BA Premium Econ...   \n",
       "2  Not Verified |  They changed our Flights from ...   \n",
       "3  Not Verified |  At Copenhagen the most chaotic...   \n",
       "4  ✅ Trip Verified |  Worst experience of my life...   \n",
       "\n",
       "                           Stars             Date         Country  \n",
       "0  \\n\\t\\t\\t\\t\\t\\t\\t\\t\\t\\t\\t\\t\\t5  23rd April 2023         Ireland  \n",
       "1                              1  22nd April 2023  United Kingdom  \n",
       "2                             10  18th April 2023   United States  \n",
       "3                              2  18th April 2023   United States  \n",
       "4                              5  17th April 2023   United States  "
      ]
     },
     "execution_count": 51,
     "metadata": {},
     "output_type": "execute_result"
    }
   ],
   "source": [
    "df.head()"
   ]
  },
  {
   "cell_type": "code",
   "execution_count": 52,
   "id": "3db5d7d0-d994-45a0-b373-a9c3b170ebfd",
   "metadata": {},
   "outputs": [
    {
     "data": {
      "text/plain": [
       "(3418, 4)"
      ]
     },
     "execution_count": 52,
     "metadata": {},
     "output_type": "execute_result"
    }
   ],
   "source": [
    "df.shape"
   ]
  },
  {
   "cell_type": "code",
   "execution_count": 53,
   "id": "fa52ffc1-8117-41df-acf3-a58f3e3db266",
   "metadata": {},
   "outputs": [],
   "source": [
    "import os\n",
    "\n",
    "cwd = os.getcwd()\n",
    "df.to_csv(cwd+ \"/BA_reviews.csv\")"
   ]
  },
  {
   "cell_type": "code",
   "execution_count": 57,
   "id": "45d13122-75bc-4989-8910-2c6a4cb880b6",
   "metadata": {},
   "outputs": [],
   "source": [
    "#imports\n",
    "import pandas as pd\n",
    "import numpy as np\n",
    "import seaborn as sns\n",
    "import matplotlib.pyplot as plt\n",
    "import os\n",
    "import re"
   ]
  },
  {
   "cell_type": "code",
   "execution_count": 58,
   "id": "2fffe07f-3906-4b0c-b105-100ae6e4bbf5",
   "metadata": {},
   "outputs": [],
   "source": [
    "import os\n",
    "\n",
    "cwd = os.getcwd()\n",
    "df.to_csv(cwd+ \"/BA_reviews.csv\")"
   ]
  },
  {
   "cell_type": "code",
   "execution_count": 59,
   "id": "0549830b-3ffa-40ae-bd42-aa0b5c3556a1",
   "metadata": {},
   "outputs": [
    {
     "data": {
      "text/html": [
       "<div>\n",
       "<style scoped>\n",
       "    .dataframe tbody tr th:only-of-type {\n",
       "        vertical-align: middle;\n",
       "    }\n",
       "\n",
       "    .dataframe tbody tr th {\n",
       "        vertical-align: top;\n",
       "    }\n",
       "\n",
       "    .dataframe thead th {\n",
       "        text-align: right;\n",
       "    }\n",
       "</style>\n",
       "<table border=\"1\" class=\"dataframe\">\n",
       "  <thead>\n",
       "    <tr style=\"text-align: right;\">\n",
       "      <th></th>\n",
       "      <th>Reviews</th>\n",
       "      <th>Stars</th>\n",
       "      <th>Date</th>\n",
       "      <th>Country</th>\n",
       "    </tr>\n",
       "  </thead>\n",
       "  <tbody>\n",
       "    <tr>\n",
       "      <th>0</th>\n",
       "      <td>✅ Trip Verified |  The ground staff were not h...</td>\n",
       "      <td>\\n\\t\\t\\t\\t\\t\\t\\t\\t\\t\\t\\t\\t\\t5</td>\n",
       "      <td>23rd April 2023</td>\n",
       "      <td>Ireland</td>\n",
       "    </tr>\n",
       "    <tr>\n",
       "      <th>1</th>\n",
       "      <td>✅ Trip Verified |  Second time BA Premium Econ...</td>\n",
       "      <td>1</td>\n",
       "      <td>22nd April 2023</td>\n",
       "      <td>United Kingdom</td>\n",
       "    </tr>\n",
       "    <tr>\n",
       "      <th>2</th>\n",
       "      <td>Not Verified |  They changed our Flights from ...</td>\n",
       "      <td>10</td>\n",
       "      <td>18th April 2023</td>\n",
       "      <td>United States</td>\n",
       "    </tr>\n",
       "    <tr>\n",
       "      <th>3</th>\n",
       "      <td>Not Verified |  At Copenhagen the most chaotic...</td>\n",
       "      <td>2</td>\n",
       "      <td>18th April 2023</td>\n",
       "      <td>United States</td>\n",
       "    </tr>\n",
       "    <tr>\n",
       "      <th>4</th>\n",
       "      <td>✅ Trip Verified |  Worst experience of my life...</td>\n",
       "      <td>5</td>\n",
       "      <td>17th April 2023</td>\n",
       "      <td>United States</td>\n",
       "    </tr>\n",
       "  </tbody>\n",
       "</table>\n",
       "</div>"
      ],
      "text/plain": [
       "                                             Reviews  \\\n",
       "0  ✅ Trip Verified |  The ground staff were not h...   \n",
       "1  ✅ Trip Verified |  Second time BA Premium Econ...   \n",
       "2  Not Verified |  They changed our Flights from ...   \n",
       "3  Not Verified |  At Copenhagen the most chaotic...   \n",
       "4  ✅ Trip Verified |  Worst experience of my life...   \n",
       "\n",
       "                           Stars             Date         Country  \n",
       "0  \\n\\t\\t\\t\\t\\t\\t\\t\\t\\t\\t\\t\\t\\t5  23rd April 2023         Ireland  \n",
       "1                              1  22nd April 2023  United Kingdom  \n",
       "2                             10  18th April 2023   United States  \n",
       "3                              2  18th April 2023   United States  \n",
       "4                              5  17th April 2023   United States  "
      ]
     },
     "execution_count": 59,
     "metadata": {},
     "output_type": "execute_result"
    }
   ],
   "source": [
    "df.head()"
   ]
  }
 ],
 "metadata": {
  "kernelspec": {
   "display_name": "Python 3 (ipykernel)",
   "language": "python",
   "name": "python3"
  },
  "language_info": {
   "codemirror_mode": {
    "name": "ipython",
    "version": 3
   },
   "file_extension": ".py",
   "mimetype": "text/x-python",
   "name": "python",
   "nbconvert_exporter": "python",
   "pygments_lexer": "ipython3",
   "version": "3.9.12"
  }
 },
 "nbformat": 4,
 "nbformat_minor": 5
}
